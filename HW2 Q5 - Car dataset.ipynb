{
 "cells": [
  {
   "cell_type": "code",
   "execution_count": 37,
   "metadata": {},
   "outputs": [],
   "source": [
    "import numpy as np\n",
    "import pandas as pd\n",
    "import itertools\n",
    "import matplotlib.pyplot as plt\n",
    "from matplotlib.colors import ListedColormap\n",
    "from sklearn.cross_validation import train_test_split, KFold, cross_val_score\n",
    "from sklearn.preprocessing import StandardScaler, MinMaxScaler\n",
    "from sklearn.datasets import make_moons, make_circles, make_classification\n",
    "from sklearn.neighbors import KNeighborsClassifier\n",
    "from sklearn.svm import SVC\n",
    "from sklearn.tree import DecisionTreeClassifier\n",
    "from sklearn.naive_bayes import GaussianNB, BernoulliNB\n",
    "from sklearn.linear_model import LogisticRegression\n",
    "from sklearn.discriminant_analysis import LinearDiscriminantAnalysis\n",
    "from sklearn.discriminant_analysis import QuadraticDiscriminantAnalysis\n",
    "from sklearn.metrics import confusion_matrix, classification_report, accuracy_score, roc_curve, roc_auc_score\n",
    "from sklearn.model_selection import GridSearchCV, cross_val_score, KFold\n",
    "import warnings\n",
    "import scikitplot\n",
    "warnings.filterwarnings('ignore')"
   ]
  },
  {
   "cell_type": "markdown",
   "metadata": {},
   "source": [
    "## Data Loading"
   ]
  },
  {
   "cell_type": "code",
   "execution_count": 2,
   "metadata": {},
   "outputs": [],
   "source": [
    "car = pd.read_csv('http://archive.ics.uci.edu/ml/machine-learning-databases/car/car.data', header = None)\n",
    "car.columns = ['buying', 'maint','door','person','lug_boot','safety','cls']"
   ]
  },
  {
   "cell_type": "markdown",
   "metadata": {},
   "source": [
    "## Data Transformation - Categorical and Numerical"
   ]
  },
  {
   "cell_type": "code",
   "execution_count": 3,
   "metadata": {},
   "outputs": [],
   "source": [
    "# Categorical Data\n",
    "cars_new = pd.get_dummies(car.iloc[:,0:6])\n",
    "cars_new['cls'] = car['cls']"
   ]
  },
  {
   "cell_type": "code",
   "execution_count": 4,
   "metadata": {},
   "outputs": [],
   "source": [
    "# Numerical Data\n",
    "cars = car.loc[:,:]\n",
    "buying_dict = {'vhigh':4,'high':3,'med':2,'low':1}\n",
    "maint_dict = {'vhigh':4,'high':3,'med':2,'low':1}\n",
    "door_dict = {'2':2,'3':3,'4':4,'5more':5}\n",
    "person_dict = {'2':2,'4':4,'more':5}\n",
    "lug_dict = {'small':1,'med':2,'big':3}\n",
    "safety_dict = {'low':1,'med':2,'high':3}\n",
    "#['buying', 'maint','door','person','lug_boot','safety','cls']\n",
    "cars['buying'] = car['buying'].map(buying_dict)\n",
    "cars['maint'] = car['maint'].map(maint_dict)\n",
    "cars['door'] = car['door'].map(door_dict)\n",
    "cars['person'] = car['person'].map(person_dict)\n",
    "cars['lug_boot'] = car['lug_boot'].map(lug_dict)\n",
    "cars['safety'] = car['safety'].map(safety_dict)\n",
    "cars['cls'] = car['cls']"
   ]
  },
  {
   "cell_type": "code",
   "execution_count": 5,
   "metadata": {},
   "outputs": [],
   "source": [
    "#http://scikit-learn.org/stable/auto_examples/model_selection/plot_confusion_matrix.html\n",
    "#Plot Confusion Matrix\n",
    "def plot_confusion_matrix(cm, classes,\n",
    "                          normalize=False,\n",
    "                          title='Confusion matrix',\n",
    "                          cmap=plt.cm.Blues):\n",
    "    \"\"\"\n",
    "    This function prints and plots the confusion matrix.\n",
    "    Normalization can be applied by setting `normalize=True`.\n",
    "    \"\"\"\n",
    "    if normalize:\n",
    "        cm = cm.astype('float') / cm.sum(axis=1)[:, np.newaxis]\n",
    "        print(\"Normalized confusion matrix\")\n",
    "    else:\n",
    "        print('Confusion matrix, without normalization')\n",
    "\n",
    "    #print(cm)\n",
    "\n",
    "    plt.imshow(cm, interpolation='nearest', cmap=cmap)\n",
    "    plt.title(title)\n",
    "    plt.colorbar()\n",
    "    tick_marks = np.arange(len(classes))\n",
    "    plt.xticks(tick_marks, classes, rotation=45)\n",
    "    plt.yticks(tick_marks, classes)\n",
    "\n",
    "    fmt = '.2f' if normalize else 'd'\n",
    "    thresh = cm.max() / 2.\n",
    "    for i, j in itertools.product(range(cm.shape[0]), range(cm.shape[1])):\n",
    "        plt.text(j, i, format(cm[i, j], fmt),\n",
    "                 horizontalalignment=\"center\",\n",
    "                 color=\"white\" if cm[i, j] > thresh else \"black\")\n",
    "\n",
    "    plt.tight_layout()\n",
    "    plt.ylabel('True label')\n",
    "    plt.xlabel('Predicted label')"
   ]
  },
  {
   "cell_type": "code",
   "execution_count": 6,
   "metadata": {},
   "outputs": [],
   "source": [
    "#Creating arrays to store the values of all models to compare different models\n",
    "accuracy_all_models = []\n",
    "cross_val_score_all_models = []\n",
    "precision_all = []\n",
    "recall_all = []\n",
    "f_measure_all = []\n",
    "std_all_models = []"
   ]
  },
  {
   "cell_type": "markdown",
   "metadata": {},
   "source": [
    "## Decision Tree"
   ]
  },
  {
   "cell_type": "markdown",
   "metadata": {},
   "source": [
    "### Categorical"
   ]
  },
  {
   "cell_type": "code",
   "execution_count": 13,
   "metadata": {},
   "outputs": [],
   "source": [
    "# Fetching predictors and classifier and splitting into test and train\n",
    "X = cars_new.iloc[:,0:21]\n",
    "y = cars_new.loc[:,'cls']\n",
    "X_train, X_test, y_train, y_test = train_test_split(X, y, test_size=.2, stratify = y, random_state = 123)"
   ]
  },
  {
   "cell_type": "code",
   "execution_count": 14,
   "metadata": {},
   "outputs": [
    {
     "name": "stdout",
     "output_type": "stream",
     "text": [
      "The final accuracy from nested cross validation is 96.77% / 0.51%\n"
     ]
    }
   ],
   "source": [
    "# Nested Cross Validation to be able to comapre across models\n",
    "NUM_TRIALS = 10\n",
    "param = {'max_depth':np.arange(1,30,2),'criterion':['entropy','gini']}\n",
    "#non_nested_scores = np.zeros(NUM_TRIALS)\n",
    "nested_scores = np.zeros(NUM_TRIALS)\n",
    "\n",
    "dtc = DecisionTreeClassifier()\n",
    "# Loop for each trial\n",
    "for i in range(NUM_TRIALS):\n",
    "\n",
    "    # Choose cross-validation techniques for the inner and outer loops,\n",
    "    # independently of the dataset.\n",
    "    # E.g \"LabelKFold\", \"LeaveOneOut\", \"LeaveOneLabelOut\", etc.\n",
    "    inner_cv = KFold(n_splits=4, shuffle=True, random_state=i)\n",
    "    outer_cv = KFold(n_splits=4, shuffle=True, random_state=i)\n",
    "\n",
    "    # Non_nested parameter search and scoring\n",
    "    clf_2 = GridSearchCV(estimator=dtc, param_grid=param, cv=inner_cv)\n",
    "    clf_2.fit(X_train, y_train)\n",
    "    #non_nested_scores[i] = clf_2.best_score_\n",
    "\n",
    "    # Nested CV with parameter optimization\n",
    "    nested_score = cross_val_score(clf_2, X=X_train, y=y_train, cv=outer_cv)\n",
    "    nested_scores[i] = nested_score.mean()\n",
    "\n",
    "print(\"The final accuracy from nested cross validation is {0:.2%} / {1:.2%}\".format(nested_scores.mean(), nested_scores.std()))\n",
    "#print(\"The final accuracy without nested cross validation is {0:.2%}\".format(non_nested_scores.mean()))\n",
    "\n",
    "\n",
    "accuracy_all_models.append(nested_scores.mean())\n",
    "std_all_models.append(nested_scores.std())"
   ]
  },
  {
   "cell_type": "markdown",
   "metadata": {},
   "source": [
    "### Numerical"
   ]
  },
  {
   "cell_type": "code",
   "execution_count": 29,
   "metadata": {},
   "outputs": [],
   "source": [
    "# Fetching predictors and classifier and splitting into test and train\n",
    "X = cars.loc[:,['buying','maint','door','person','lug_boot','safety']]\n",
    "y = cars.loc[:,'cls']\n",
    "X_train, X_test, y_train, y_test = train_test_split(X, y, test_size=.2, stratify = y, random_state = 123)\n",
    "\n",
    "#Normalise the train dataset \n",
    "std_scale = StandardScaler().fit(X_train)\n",
    "X_train_std = std_scale.transform(X_train)\n",
    "X_test_std  = std_scale.transform(X_test)"
   ]
  },
  {
   "cell_type": "code",
   "execution_count": 30,
   "metadata": {},
   "outputs": [
    {
     "name": "stdout",
     "output_type": "stream",
     "text": [
      "The final accuracy from nested cross validation is 97.51% / 0.50%\n"
     ]
    }
   ],
   "source": [
    "# Nested Cross Validation to be able to compare across models\n",
    "NUM_TRIALS = 10\n",
    "param = {'max_depth':np.arange(1,30,2), 'criterion':['entropy','gini']}\n",
    "non_nested_scores = np.zeros(NUM_TRIALS)\n",
    "nested_scores = np.zeros(NUM_TRIALS)\n",
    "\n",
    "dtc = DecisionTreeClassifier()\n",
    "# Loop for each trial\n",
    "for i in range(NUM_TRIALS):\n",
    "\n",
    "    # Choose cross-validation techniques for the inner and outer loops,\n",
    "    # independently of the dataset.\n",
    "    # E.g \"LabelKFold\", \"LeaveOneOut\", \"LeaveOneLabelOut\", etc.\n",
    "    inner_cv = KFold(n_splits=4, shuffle=True, random_state=i)\n",
    "    outer_cv = KFold(n_splits=4, shuffle=True, random_state=i)\n",
    "\n",
    "    # Non_nested parameter search and scoring\n",
    "    clf_2 = GridSearchCV(estimator=dtc, param_grid=param, cv=inner_cv)\n",
    "    clf_2.fit(X_train_std, y_train)\n",
    "    non_nested_scores[i] = clf_2.best_score_\n",
    "\n",
    "    # Nested CV with parameter optimization\n",
    "    nested_score = cross_val_score(clf_2, X=X_train_std, y=y_train, cv=outer_cv)\n",
    "    nested_scores[i] = nested_score.mean()\n",
    "\n",
    "print(\"The final accuracy from nested cross validation is {0:.2%} / {1:.2%}\".format(nested_scores.mean(), nested_scores.std()))\n",
    "#print(\"The final accuracy without nested cross validation is {0:.2%}\".format(non_nested_scores.mean()))\n",
    "\n",
    "\n",
    "accuracy_all_models.append(nested_scores.mean())\n",
    "std_all_models.append(nested_scores.std())"
   ]
  },
  {
   "cell_type": "markdown",
   "metadata": {},
   "source": [
    "# Naive Bayes"
   ]
  },
  {
   "cell_type": "markdown",
   "metadata": {},
   "source": [
    "### Categorical"
   ]
  },
  {
   "cell_type": "code",
   "execution_count": 16,
   "metadata": {},
   "outputs": [],
   "source": [
    "# Fetching predictors and classifier and splitting into test and train\n",
    "X = cars_new.iloc[:,0:21]\n",
    "y = cars_new.loc[:,'cls']\n",
    "X_train, X_test, y_train, y_test = train_test_split(X, y, test_size=.2, stratify = y, random_state = 123)"
   ]
  },
  {
   "cell_type": "code",
   "execution_count": 17,
   "metadata": {},
   "outputs": [
    {
     "name": "stdout",
     "output_type": "stream",
     "text": [
      "The final accuracy from nested cross validation is 85.72% / 0.52%\n"
     ]
    }
   ],
   "source": [
    "#NESTED Cross Validation\n",
    "NUM_TRIALS = 10\n",
    "non_nested_scores = np.zeros(NUM_TRIALS)\n",
    "nested_scores = np.zeros(NUM_TRIALS)\n",
    "\n",
    "nb = BernoulliNB()\n",
    "# Loop for each trial\n",
    "for i in range(NUM_TRIALS):\n",
    "\n",
    "    # Choose cross-validation techniques for the inner and outer loops,\n",
    "    # independently of the dataset.\n",
    "    # E.g \"LabelKFold\", \"LeaveOneOut\", \"LeaveOneLabelOut\", etc.\n",
    "    inner_cv = KFold(n_splits=4, shuffle=True, random_state=i)\n",
    "    outer_cv = KFold(n_splits=4, shuffle=True, random_state=i)\n",
    "\n",
    "    # Non_nested parameter search and scoring\n",
    "    clf_2 = GridSearchCV(estimator = nb, param_grid = {}, cv=inner_cv)\n",
    "    clf_2.fit(X_train, y_train)\n",
    "    #non_nested_scores[i] = clf_2.best_score_\n",
    "\n",
    "    # Nested CV with parameter optimization\n",
    "    nested_score = cross_val_score(clf_2, X=X_train, y=y_train, cv=outer_cv)\n",
    "    nested_scores[i] = nested_score.mean()\n",
    "\n",
    "print(\"The final accuracy from nested cross validation is {0:.2%} / {1:.2%}\".format(nested_scores.mean(), nested_scores.std()))\n",
    "#print(\"The final accuracy without nested cross validation is {0:.2%}\".format(non_nested_scores.mean()))\n",
    "\n",
    "\n",
    "accuracy_all_models.append(nested_scores.mean())\n",
    "std_all_models.append(nested_scores.std())"
   ]
  },
  {
   "cell_type": "markdown",
   "metadata": {},
   "source": [
    "### Numerical"
   ]
  },
  {
   "cell_type": "code",
   "execution_count": 18,
   "metadata": {},
   "outputs": [],
   "source": [
    "# Fetching predictors and classifier and splitting into test and train\n",
    "X = cars.loc[:,['buying','maint','door','person','lug_boot','safety']]\n",
    "y = cars.loc[:,'cls']\n",
    "X_train, X_test, y_train, y_test = train_test_split(X, y, test_size=.2, stratify = y, random_state = 123)\n",
    "\n",
    "#Normalise the train dataset \n",
    "std_scale = StandardScaler().fit(X_train)\n",
    "X_train_std = std_scale.transform(X_train)\n",
    "X_test_std  = std_scale.transform(X_test)"
   ]
  },
  {
   "cell_type": "code",
   "execution_count": 19,
   "metadata": {},
   "outputs": [
    {
     "name": "stdout",
     "output_type": "stream",
     "text": [
      "The final accuracy from nested cross validation is 76.02% / 0.31%\n"
     ]
    }
   ],
   "source": [
    "# Nested Cross Validation to compare accuracies across models\n",
    "NUM_TRIALS = 10\n",
    "non_nested_scores = np.zeros(NUM_TRIALS)\n",
    "nested_scores = np.zeros(NUM_TRIALS)\n",
    "\n",
    "nb = GaussianNB()\n",
    "# Loop for each trial\n",
    "for i in range(NUM_TRIALS):\n",
    "\n",
    "    # Choose cross-validation techniques for the inner and outer loops,\n",
    "    # independently of the dataset.\n",
    "    # E.g \"LabelKFold\", \"LeaveOneOut\", \"LeaveOneLabelOut\", etc.\n",
    "    inner_cv = KFold(n_splits=4, shuffle=True, random_state=i)\n",
    "    outer_cv = KFold(n_splits=4, shuffle=True, random_state=i)\n",
    "\n",
    "    # Non_nested parameter search and scoring\n",
    "    clf_2 = GridSearchCV(estimator = nb, param_grid = {}, cv=inner_cv)\n",
    "    clf_2.fit(X_train_std, y_train)\n",
    "    #non_nested_scores[i] = clf_2.best_score_\n",
    "\n",
    "    # Nested CV with parameter optimization\n",
    "    nested_score = cross_val_score(clf_2, X=X_train_std, y=y_train, cv=outer_cv)\n",
    "    nested_scores[i] = nested_score.mean()\n",
    "\n",
    "print(\"The final accuracy from nested cross validation is {0:.2%} / {1:.2%}\".format(nested_scores.mean(), nested_scores.std()))\n",
    "#print(\"The final accuracy without nested cross validation is {0:.2%}\".format(non_nested_scores.mean()))\n",
    "\n",
    "\n",
    "accuracy_all_models.append(nested_scores.mean())\n",
    "std_all_models.append(nested_scores.std())"
   ]
  },
  {
   "cell_type": "markdown",
   "metadata": {},
   "source": [
    "# k-Nearest Neighbor"
   ]
  },
  {
   "cell_type": "markdown",
   "metadata": {},
   "source": [
    "### Categorical"
   ]
  },
  {
   "cell_type": "code",
   "execution_count": 20,
   "metadata": {},
   "outputs": [],
   "source": [
    "# Fetching predictors and classifier and splitting into test and train\n",
    "X = cars_new.iloc[:,0:21]\n",
    "y = cars_new.loc[:,'cls']\n",
    "X_train, X_test, y_train, y_test = train_test_split(X, y, test_size=.2, stratify = y, random_state = 123)"
   ]
  },
  {
   "cell_type": "code",
   "execution_count": 21,
   "metadata": {},
   "outputs": [
    {
     "name": "stdout",
     "output_type": "stream",
     "text": [
      "The final accuracy from nested cross validation is 90.41% / 0.72%\n"
     ]
    }
   ],
   "source": [
    "#Nested Cross Validation to compare accuracies across models\n",
    "NUM_TRIALS = 10\n",
    "param = {'n_neighbors':list(range(1,15)), 'weights': [\"uniform\", \"distance\"]}\n",
    "non_nested_scores = np.zeros(NUM_TRIALS)\n",
    "nested_scores = np.zeros(NUM_TRIALS)\n",
    "\n",
    "knn = KNeighborsClassifier()\n",
    "\n",
    "# Loop for each trial\n",
    "for i in range(NUM_TRIALS):\n",
    "\n",
    "    # Choose cross-validation techniques for the inner and outer loops,\n",
    "    # independently of the dataset.\n",
    "    # E.g \"LabelKFold\", \"LeaveOneOut\", \"LeaveOneLabelOut\", etc.\n",
    "    inner_cv = KFold(n_splits=4, shuffle=True, random_state=i)\n",
    "    outer_cv = KFold(n_splits=4, shuffle=True, random_state=i)\n",
    "\n",
    "    # Non_nested parameter search and scoring\n",
    "    clf_2 = GridSearchCV(estimator=knn, param_grid=param, cv=inner_cv)\n",
    "    clf_2.fit(X_train, y_train)\n",
    "    non_nested_scores[i] = clf_2.best_score_\n",
    "\n",
    "    # Nested CV with parameter optimization\n",
    "    nested_score = cross_val_score(clf_2, X=X_train, y=y_train, cv=outer_cv)\n",
    "    nested_scores[i] = nested_score.mean()\n",
    "\n",
    "print(\"The final accuracy from nested cross validation is {0:.2%} / {1:.2%}\".format(nested_scores.mean(), nested_scores.std()))\n",
    "#print(\"The final accuracy without nested cross validation is {0:.2%}\".format(non_nested_scores.mean()))\n",
    "\n",
    "\n",
    "accuracy_all_models.append(nested_scores.mean())\n",
    "std_all_models.append(nested_scores.std())"
   ]
  },
  {
   "cell_type": "markdown",
   "metadata": {},
   "source": [
    "### Numerical"
   ]
  },
  {
   "cell_type": "code",
   "execution_count": 22,
   "metadata": {},
   "outputs": [],
   "source": [
    "# Fetching predictors and classifier and splitting into test and train\n",
    "X = cars.loc[:,['buying','maint','door','person','lug_boot','safety']]\n",
    "y = cars.loc[:,'cls']\n",
    "X_train, X_test, y_train, y_test = train_test_split(X, y, test_size=.2, stratify = y, random_state = 123)\n",
    "\n",
    "#Normalise the train dataset \n",
    "std_scale = StandardScaler().fit(X_train)\n",
    "X_train_std = std_scale.transform(X_train)\n",
    "X_test_std  = std_scale.transform(X_test)"
   ]
  },
  {
   "cell_type": "code",
   "execution_count": 23,
   "metadata": {},
   "outputs": [
    {
     "name": "stdout",
     "output_type": "stream",
     "text": [
      "The final accuracy from nested cross validation is 95.94% / 0.51%\n"
     ]
    }
   ],
   "source": [
    "# Nested Cross Validation to compare accuracies across models\n",
    "NUM_TRIALS = 10\n",
    "param = {'n_neighbors':list(range(1,15)), 'weights': [\"uniform\", \"distance\"]}\n",
    "non_nested_scores = np.zeros(NUM_TRIALS)\n",
    "nested_scores = np.zeros(NUM_TRIALS)\n",
    "\n",
    "knn = KNeighborsClassifier()\n",
    "# Loop for each trial\n",
    "for i in range(NUM_TRIALS):\n",
    "\n",
    "    # Choose cross-validation techniques for the inner and outer loops,\n",
    "    # independently of the dataset.\n",
    "    # E.g \"LabelKFold\", \"LeaveOneOut\", \"LeaveOneLabelOut\", etc.\n",
    "    inner_cv = KFold(n_splits=4, shuffle=True, random_state=i)\n",
    "    outer_cv = KFold(n_splits=4, shuffle=True, random_state=i)\n",
    "\n",
    "    # Non_nested parameter search and scoring\n",
    "    clf_2 = GridSearchCV(estimator=knn, param_grid=param, cv=inner_cv)\n",
    "    clf_2.fit(X_train_std, y_train)\n",
    "    non_nested_scores[i] = clf_2.best_score_\n",
    "\n",
    "    # Nested CV with parameter optimization\n",
    "    nested_score = cross_val_score(clf_2, X=X_train_std, y=y_train, cv=outer_cv)\n",
    "    nested_scores[i] = nested_score.mean()\n",
    "\n",
    "print(\"The final accuracy from nested cross validation is {0:.2%} / {1:.2%}\".format(nested_scores.mean(),nested_scores.std()))\n",
    "#print(\"The final accuracy without nested cross validation is {0:.2%}\".format(non_nested_scores.mean()))\n",
    "\n",
    "\n",
    "accuracy_all_models.append(nested_scores.mean())\n",
    "std_all_models.append(nested_scores.std())"
   ]
  },
  {
   "cell_type": "markdown",
   "metadata": {},
   "source": [
    "# Logistic Regression (Multiclass)"
   ]
  },
  {
   "cell_type": "markdown",
   "metadata": {},
   "source": [
    "### Categorical"
   ]
  },
  {
   "cell_type": "code",
   "execution_count": 24,
   "metadata": {},
   "outputs": [],
   "source": [
    "# Fetching predictors and classifier and splitting into test and train\n",
    "X = cars_new.iloc[:,0:21]\n",
    "y = cars_new.loc[:,'cls']\n",
    "X_train, X_test, y_train, y_test = train_test_split(X, y, test_size=.2, stratify = y, random_state = 123)"
   ]
  },
  {
   "cell_type": "code",
   "execution_count": 25,
   "metadata": {},
   "outputs": [
    {
     "name": "stdout",
     "output_type": "stream",
     "text": [
      "The final accuracy from nested cross validation is 93.78% / 0.31%\n"
     ]
    }
   ],
   "source": [
    "# Nested Cross Validation to compare accuracies across models\n",
    "NUM_TRIALS = 10\n",
    "param = {\"C\": [0.1, 1, 10, 100], \"penalty\" : ['l1','l2']}\n",
    "non_nested_scores = np.zeros(NUM_TRIALS)\n",
    "nested_scores = np.zeros(NUM_TRIALS)\n",
    "\n",
    "lreg = LogisticRegression(solver = 'saga', multi_class = 'multinomial')\n",
    "# Loop for each trial\n",
    "for i in range(NUM_TRIALS):\n",
    "\n",
    "    # Choose cross-validation techniques for the inner and outer loops,\n",
    "    # independently of the dataset.\n",
    "    # E.g \"LabelKFold\", \"LeaveOneOut\", \"LeaveOneLabelOut\", etc.\n",
    "    inner_cv = KFold(n_splits=4, shuffle=True, random_state=i)\n",
    "    outer_cv = KFold(n_splits=4, shuffle=True, random_state=i)\n",
    "\n",
    "    # Non_nested parameter search and scoring\n",
    "    clf_2 = GridSearchCV(estimator=lreg, param_grid=param, cv=inner_cv)\n",
    "    clf_2.fit(X_train, y_train)\n",
    "    non_nested_scores[i] = clf_2.best_score_\n",
    "\n",
    "    # Nested CV with parameter optimization\n",
    "    nested_score = cross_val_score(clf_2, X=X_train, y=y_train, cv=outer_cv)\n",
    "    nested_scores[i] = nested_score.mean()\n",
    "\n",
    "print(\"The final accuracy from nested cross validation is {0:.2%} / {1:.2%}\".format(nested_scores.mean(),nested_scores.std()))\n",
    "#print(\"The final accuracy without nested cross validation is {0:.2%}\".format(non_nested_scores.mean()))\n",
    "\n",
    "\n",
    "accuracy_all_models.append(nested_scores.mean())\n",
    "std_all_models.append(nested_score.std())"
   ]
  },
  {
   "cell_type": "markdown",
   "metadata": {},
   "source": [
    "### Numerical"
   ]
  },
  {
   "cell_type": "code",
   "execution_count": 26,
   "metadata": {},
   "outputs": [],
   "source": [
    "# Fetching predictors and classifier and splitting into test and train\n",
    "X = cars.loc[:,['buying','maint','door','person','lug_boot','safety']]\n",
    "y = cars.loc[:,'cls']\n",
    "X_train, X_test, y_train, y_test = train_test_split(X, y, test_size=.2, stratify = y, random_state = 123)\n",
    "\n",
    "#Normalise the train dataset \n",
    "std_scale = StandardScaler().fit(X_train)\n",
    "X_train_std = std_scale.transform(X_train)\n",
    "X_test_std  = std_scale.transform(X_test)"
   ]
  },
  {
   "cell_type": "code",
   "execution_count": 27,
   "metadata": {},
   "outputs": [
    {
     "name": "stdout",
     "output_type": "stream",
     "text": [
      "The final accuracy from nested cross validation is 84.78% / 0.46%\n"
     ]
    }
   ],
   "source": [
    "# Nested Cross Validation to compare accuracies across models\n",
    "NUM_TRIALS = 10\n",
    "param = {\"C\": [0.1, 1, 10, 100], \"penalty\" : ['l1','l2']}\n",
    "non_nested_scores = np.zeros(NUM_TRIALS)\n",
    "nested_scores = np.zeros(NUM_TRIALS)\n",
    "\n",
    "lreg = LogisticRegression(solver = 'saga', multi_class = 'multinomial')\n",
    "# Loop for each trial\n",
    "for i in range(NUM_TRIALS):\n",
    "\n",
    "    # Choose cross-validation techniques for the inner and outer loops,\n",
    "    # independently of the dataset.\n",
    "    # E.g \"LabelKFold\", \"LeaveOneOut\", \"LeaveOneLabelOut\", etc.\n",
    "    inner_cv = KFold(n_splits=4, shuffle=True, random_state=i)\n",
    "    outer_cv = KFold(n_splits=4, shuffle=True, random_state=i)\n",
    "\n",
    "    # Non_nested parameter search and scoring\n",
    "    clf_2 = GridSearchCV(estimator=lreg, param_grid=param, cv=inner_cv)\n",
    "    clf_2.fit(X_train_std, y_train)\n",
    "    non_nested_scores[i] = clf_2.best_score_\n",
    "\n",
    "    # Nested CV with parameter optimization\n",
    "    nested_score = cross_val_score(clf_2, X=X_train_std, y=y_train, cv=outer_cv)\n",
    "    nested_scores[i] = nested_score.mean()\n",
    "\n",
    "print(\"The final accuracy from nested cross validation is {0:.2%} / {1:.2%}\".format(nested_scores.mean(),nested_scores.std()))\n",
    "#print(\"The final accuracy without nested cross validation is {0:.2%}\".format(non_nested_scores.mean()))\n",
    "\n",
    "\n",
    "accuracy_all_models.append(nested_scores.mean())\n",
    "std_all_models.append(nested_scores.std())"
   ]
  },
  {
   "cell_type": "markdown",
   "metadata": {},
   "source": [
    "# Support Vector Machine"
   ]
  },
  {
   "cell_type": "markdown",
   "metadata": {},
   "source": [
    "### Categorical"
   ]
  },
  {
   "cell_type": "code",
   "execution_count": 7,
   "metadata": {},
   "outputs": [],
   "source": [
    "# Fetching predictors and classifier and splitting into test and train\n",
    "X = cars_new.iloc[:,0:21]\n",
    "y = cars_new.loc[:,'cls']\n",
    "X_train, X_test, y_train, y_test = train_test_split(X, y, test_size=.2, stratify = y, random_state = 123)"
   ]
  },
  {
   "cell_type": "code",
   "execution_count": 8,
   "metadata": {},
   "outputs": [
    {
     "name": "stdout",
     "output_type": "stream",
     "text": [
      "The final accuracy from nested cross validation is 99.34% / 0.32%\n"
     ]
    }
   ],
   "source": [
    "# Nested Cross Validation to compare accuracies across models\n",
    "NUM_TRIALS = 10\n",
    "param = [{'kernel': ['rbf'], 'gamma': [1e-3, 1e-5, 1e-7],\n",
    "                     'C': [.001, .01, 1, 5, 10, 50, 100, 1000]},\n",
    "                    {'kernel': ['linear'], 'C': [.001, .01, 1, 10, 100, 1000]},\n",
    "                    {'kernel':['poly'], 'C':[.001, .01, 1, 10, 100, 1000], 'degree':[1,3,5]}] \n",
    "\n",
    "non_nested_scores = np.zeros(NUM_TRIALS)\n",
    "nested_scores = np.zeros(NUM_TRIALS)\n",
    "\n",
    "sup_vec = SVC(probability = True)\n",
    "# Loop for each trial\n",
    "for i in range(NUM_TRIALS):\n",
    "\n",
    "    # Choose cross-validation techniques for the inner and outer loops,\n",
    "    # independently of the dataset.\n",
    "    # E.g \"LabelKFold\", \"LeaveOneOut\", \"LeaveOneLabelOut\", etc.\n",
    "    inner_cv = KFold(n_splits=4, shuffle=True, random_state=i)\n",
    "    outer_cv = KFold(n_splits=4, shuffle=True, random_state=i)\n",
    "\n",
    "    # Non_nested parameter search and scoring\n",
    "    clf_2 = GridSearchCV(estimator=sup_vec, param_grid=param, cv=inner_cv)\n",
    "    clf_2.fit(X_train, y_train)\n",
    "    non_nested_scores[i] = clf_2.best_score_\n",
    "\n",
    "    # Nested CV with parameter optimization\n",
    "    nested_score = cross_val_score(clf_2, X=X_train, y=y_train, cv=outer_cv)\n",
    "    nested_scores[i] = nested_score.mean()\n",
    "\n",
    "print(\"The final accuracy from nested cross validation is {0:.2%} / {1:.2%}\".format(nested_scores.mean(),nested_scores.std()))\n",
    "#print(\"The final accuracy without nested cross validation is {0:.2%}\".format(non_nested_scores.mean()))\n",
    "\n",
    "\n",
    "accuracy_all_models.append(nested_scores.mean())\n",
    "std_all_models.append(nested_scores.std())"
   ]
  },
  {
   "cell_type": "markdown",
   "metadata": {},
   "source": [
    "### Numerical"
   ]
  },
  {
   "cell_type": "code",
   "execution_count": 9,
   "metadata": {},
   "outputs": [],
   "source": [
    "# Fetching predictors and classifier and splitting into test and train\n",
    "X = cars.loc[:,['buying','maint','door','person','lug_boot','safety']]\n",
    "y = cars.loc[:,'cls']\n",
    "X_train, X_test, y_train, y_test = train_test_split(X, y, test_size=.2, stratify = y, random_state = 123)\n",
    "\n",
    "#Normalise the train dataset \n",
    "std_scale = StandardScaler().fit(X_train)\n",
    "X_train_std = std_scale.transform(X_train)\n",
    "X_test_std  = std_scale.transform(X_test)"
   ]
  },
  {
   "cell_type": "code",
   "execution_count": 10,
   "metadata": {},
   "outputs": [
    {
     "name": "stdout",
     "output_type": "stream",
     "text": [
      "The final accuracy from nested cross validation is 91.70% / 0.29%\n"
     ]
    }
   ],
   "source": [
    "# Nested Cross Validation to compare accuracies across models\n",
    "NUM_TRIALS = 10\n",
    "param = [{'kernel': ['rbf'], 'gamma': [1e-3, 1e-5, 1e-7],\n",
    "                     'C': [.001, .01, 1, 5, 10, 50, 100, 1000]},\n",
    "                    {'kernel': ['linear'], 'C': [.001, .01, 1, 10, 100, 1000]},\n",
    "                    {'kernel':['poly'], 'C':[.001, .01, 1, 10, 100, 1000], 'degree':[1,3,5]}] \n",
    "non_nested_scores = np.zeros(NUM_TRIALS)\n",
    "nested_scores = np.zeros(NUM_TRIALS)\n",
    "\n",
    "sup_vec = SVC(probability = True)\n",
    "# Loop for each trial\n",
    "for i in range(NUM_TRIALS):\n",
    "\n",
    "    # Choose cross-validation techniques for the inner and outer loops,\n",
    "    # independently of the dataset.\n",
    "    # E.g \"LabelKFold\", \"LeaveOneOut\", \"LeaveOneLabelOut\", etc.\n",
    "    inner_cv = KFold(n_splits=4, shuffle=True, random_state=i)\n",
    "    outer_cv = KFold(n_splits=4, shuffle=True, random_state=i)\n",
    "\n",
    "    # Non_nested parameter search and scoring\n",
    "    clf_2 = GridSearchCV(estimator=sup_vec, param_grid=param, cv=inner_cv)\n",
    "    clf_2.fit(X_train_std, y_train)\n",
    "    non_nested_scores[i] = clf_2.best_score_\n",
    "\n",
    "    # Nested CV with parameter optimization\n",
    "    nested_score = cross_val_score(clf_2, X=X_train_std, y=y_train, cv=outer_cv)\n",
    "    nested_scores[i] = nested_score.mean()\n",
    "\n",
    "print(\"The final accuracy from nested cross validation is {0:.2%} / {1:.2%}\".format(nested_scores.mean(),nested_scores.std()))\n",
    "#print(\"The final accuracy without nested cross validation is {0:.2%}\".format(non_nested_scores.mean()))\n",
    "\n",
    "\n",
    "accuracy_all_models.append(nested_scores.mean())\n",
    "std_all_models.append(nested_scores.std())"
   ]
  },
  {
   "cell_type": "code",
   "execution_count": 32,
   "metadata": {},
   "outputs": [
    {
     "name": "stdout",
     "output_type": "stream",
     "text": [
      "[0.9934158498785288, 0.9170019686688446, 0.9676545614476, 0.8572386277959285, 0.7601962385859095, 0.9040533634916645, 0.9594054201223088, 0.937776451369691, 0.8477590684426574, 0.9751091145178856]\n",
      "[0.003210315056377862, 0.002891939611403295, 0.005062914780564898, 0.005212540774000903, 0.003061625597608797, 0.007225763827463378, 0.005058732124443276, 0.004659919634099857, 0.004645981078014485, 0.005048634785834887]\n"
     ]
    }
   ],
   "source": [
    "print(accuracy_all_models)\n",
    "print(std_all_models)"
   ]
  },
  {
   "cell_type": "code",
   "execution_count": 33,
   "metadata": {},
   "outputs": [
    {
     "name": "stdout",
     "output_type": "stream",
     "text": [
      "                                Accuracy  Standard Deviation\n",
      "SVM_Categorical                 0.993416            0.003210\n",
      "SVM_Numerical                   0.917002            0.002892\n",
      "DecisionTree_Categorical        0.967655            0.005063\n",
      "NaiveBayes_Categorical          0.857239            0.005213\n",
      "NaiveBayes_Numerical            0.760196            0.003062\n",
      "kNNClassifier_Categorical       0.904053            0.007226\n",
      "kNNClassifier_Numerical         0.959405            0.005059\n",
      "LogisticRegression_Categorical  0.937776            0.004660\n",
      "LogisticRegression_Numerical    0.847759            0.004646\n",
      "DecisionTree_Numerical          0.975109            0.005049\n"
     ]
    }
   ],
   "source": [
    "d = {'Accuracy':accuracy_all_models,\n",
    "     'Standard Deviation': std_all_models}\n",
    "index = ['SVM_Categorical','SVM_Numerical','DecisionTree_Categorical','NaiveBayes_Categorical','NaiveBayes_Numerical',\n",
    "         'kNNClassifier_Categorical', 'kNNClassifier_Numerical','LogisticRegression_Categorical', 'LogisticRegression_Numerical',\n",
    "         'DecisionTree_Numerical']\n",
    "\n",
    "df = pd.DataFrame(d, index=index)\n",
    "print(df)"
   ]
  },
  {
   "cell_type": "code",
   "execution_count": 34,
   "metadata": {},
   "outputs": [
    {
     "name": "stdout",
     "output_type": "stream",
     "text": [
      "Best score is 99.64%\n",
      "Best parameters are {'C': 1000, 'degree': 3, 'kernel': 'poly'}\n",
      "\n",
      "Prediction Accuracy: 99.71%\n",
      "\n",
      "             precision    recall  f1-score   support\n",
      "\n",
      "        acc       0.99      1.00      0.99        77\n",
      "       good       1.00      0.93      0.96        14\n",
      "      unacc       1.00      1.00      1.00       242\n",
      "      vgood       1.00      1.00      1.00        13\n",
      "\n",
      "avg / total       1.00      1.00      1.00       346\n",
      "\n"
     ]
    }
   ],
   "source": [
    "X = cars_new.iloc[:,0:21]\n",
    "y = cars_new.loc[:,'cls']\n",
    "X_train, X_test, y_train, y_test = train_test_split(X, y, test_size=.2, stratify = y, random_state = 123)\n",
    "\n",
    "# Applying Grid Search to get best hyperparameters values\n",
    "param = [{'kernel': ['rbf'], 'gamma': [1e-3, 1e-5, 1e-7],\n",
    "                     'C': [.001, .01, 1, 5, 10, 50, 100, 1000]},\n",
    "                    {'kernel': ['linear'], 'C': [.001, .01, 1, 10, 100, 1000]},\n",
    "                    {'kernel':['poly'], 'C':[.001, .01, 1, 10, 100, 1000], 'degree':[1,3,5]}] \n",
    "model = SVC(probability = True)\n",
    "grid = GridSearchCV(model, param, cv=10, scoring=\"accuracy\")\n",
    "\n",
    "# Learning\n",
    "grid.fit(X_train, y_train)\n",
    "\n",
    "# Evaluate\n",
    "print (\"Best score is {0:.2%}\".format(grid.best_score_))\n",
    "print (\"Best parameters are {0}\".format(grid.best_params_))\n",
    "\n",
    "model = grid.best_estimator_\n",
    "model.fit(X_train, y_train)\n",
    "y_pred = model.predict(X_test)\n",
    "print()\n",
    "print(\"Prediction Accuracy: {0:.2%}\\n\".format(accuracy_score(y_test, y_pred)))\n",
    "print(classification_report(y_test, y_pred))"
   ]
  },
  {
   "cell_type": "code",
   "execution_count": 35,
   "metadata": {},
   "outputs": [
    {
     "name": "stdout",
     "output_type": "stream",
     "text": [
      "Normalized confusion matrix\n"
     ]
    },
    {
     "data": {
      "image/png": "[encoded data removed]",
      "text/plain": [
       "<matplotlib.figure.Figure at 0x1a13bdff28>"
      ]
     },
     "metadata": {},
     "output_type": "display_data"
    }
   ],
   "source": [
    "# Confusion Matrix\n",
    "conf = confusion_matrix(y_test, y_pred)\n",
    "plt.figure(figsize = (10,5))\n",
    "plt.subplot(121)\n",
    "clas= np.array(cars_new.cls.unique())\n",
    "plot_confusion_matrix(conf, classes= clas, normalize=True, title='Confusion matrix using Support Vector Machine')"
   ]
  },
  {
   "cell_type": "code",
   "execution_count": 41,
   "metadata": {},
   "outputs": [
    {
     "data": {
      "text/plain": [
       "<matplotlib.axes._subplots.AxesSubplot at 0x1a197482b0>"
      ]
     },
     "execution_count": 41,
     "metadata": {},
     "output_type": "execute_result"
    },
    {
     "data": {
      "image/png": "[encoded data removed]",
      "text/plain": [
       "<matplotlib.figure.Figure at 0x1a19748630>"
      ]
     },
     "metadata": {},
     "output_type": "display_data"
    }
   ],
   "source": [
    "probas = model.predict_proba(X_test)\n",
    "scikitplot.metrics.plot_roc(y_test, probas)"
   ]
  },
  {
   "cell_type": "code",
   "execution_count": null,
   "metadata": {},
   "outputs": [],
   "source": []
  }
 ],
 "metadata": {
  "kernelspec": {
   "display_name": "Python 3",
   "language": "python",
   "name": "python3"
  },
  "language_info": {
   "codemirror_mode": {
    "name": "ipython",
    "version": 3
   },
   "file_extension": ".py",
   "mimetype": "text/x-python",
   "name": "python",
   "nbconvert_exporter": "python",
   "pygments_lexer": "ipython3",
   "version": "3.6.6"
  }
 },
 "nbformat": 4,
 "nbformat_minor": 2
}
